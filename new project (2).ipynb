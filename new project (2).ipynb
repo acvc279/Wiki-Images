{
 "cells": [
  {
   "cell_type": "code",
   "execution_count": 1,
   "metadata": {
    "id": "48b89IkcnZUb"
   },
   "outputs": [
    {
     "name": "stderr",
     "output_type": "stream",
     "text": [
      "Using TensorFlow backend.\n"
     ]
    }
   ],
   "source": [
    "import numpy as np\n",
    "import pandas as pd\n",
    "import matplotlib.pyplot as plt\n",
    "import tensorflow as tf\n",
    "import os\n",
    "from sklearn.model_selection import train_test_split\n",
    "from keras.utils import to_categorical\n",
    "from keras.models import Sequential\n",
    "from tensorflow.keras.layers import Conv2D, MaxPooling2D\n",
    "from keras.layers import Dense, Dropout, Flatten\n",
    "#from skimage import io\n",
    "from PIL import Image\n",
    "import matplotlib.image as im\n",
    "from numpy import asarray\n"
   ]
  },
  {
   "cell_type": "code",
   "execution_count": 14,
   "metadata": {
    "colab": {
     "base_uri": "https://localhost:8080/"
    },
    "id": "OgvUN_fNAPLm",
    "outputId": "68fa48d9-07c4-4a06-ce6d-1ea5fff626b3"
   },
   "outputs": [
    {
     "name": "stdout",
     "output_type": "stream",
     "text": [
      "<PIL.PngImagePlugin.PngImageFile image mode=RGBA size=349x349 at 0x1E40009AEC8>\n"
     ]
    },
    {
     "data": {
      "text/plain": [
       "(349, 349, 4)"
      ]
     },
     "execution_count": 14,
     "metadata": {},
     "output_type": "execute_result"
    }
   ],
   "source": [
    "#im.open(os.path.join('/content/drive/MyDrive/project data/train/apple_1.jpg')).resize(200,200)\n",
    "img=Image.open(os.path.join('C:/train/apple_1.jpg'))\n",
    "print(img)\n",
    "type(img)\n",
    "data=asarray(img)\n",
    "#a=np.ndarray(img)\n",
    "\n",
    "#.convert('L')\n",
    "#img.resize((200,200))\n",
    "#img.size\n",
    "\n",
    "img1=img.resize((32,32))\n",
    "img1.size\n",
    "img1.resize((500,500))\n",
    "data.shape"
   ]
  },
  {
   "cell_type": "code",
   "execution_count": 17,
   "metadata": {
    "colab": {
     "base_uri": "https://localhost:8080/"
    },
    "id": "mRj3_B32nsqo",
    "outputId": "499893ef-699e-469f-ffe9-22765962bc6b"
   },
   "outputs": [
    {
     "name": "stdout",
     "output_type": "stream",
     "text": [
      "(200, 200, 3)\n",
      "(214, 200, 200, 3)\n"
     ]
    }
   ],
   "source": [
    "import cv2\n",
    "train_images_data=[]\n",
    "train_images_labels=[]\n",
    "shape=(200,200)\n",
    "for i in os.listdir('C:/train'):\n",
    "  if i.split('.')[1] == 'jpg':\n",
    "    #print(i)\n",
    "    img = Image.open(os.path.join('C:/train',i))\n",
    "    #img=im.imread(os.path.join('/content/drive/MyDrive/project data/train',i))\n",
    "    #np.asarray(img)\n",
    "    img=img.resize((200,200))\n",
    "    #print(img)\n",
    "    img=np.array(img)\n",
    "    #print(img.shape)\n",
    "    if(img.shape==(200,200)):\n",
    "        #img=img.reshape((200,200,3))\n",
    "        os.remove('C:/train/'+i)\n",
    "    if(img.shape==(200,200,4)):\n",
    "        c='C:/train/'+i\n",
    "        os.remove('C:/train/'+i)\n",
    "    #if(img.shape[2]):\n",
    "      #img=img.reshape((200,200,3))\n",
    "    #print(img.shape[2])\n",
    "    #print(i)\n",
    "    train_images_data.append(img)\n",
    "    train_images_labels.append(i.split('_')[0])\n",
    "print(train_images_data[0].shape)\n",
    "train_images_labels = pd.get_dummies(train_images_labels).values\n",
    "train_images_data = np.array(train_images_data)\n",
    "print(train_images_data.shape)\n",
    "x_train,x_val,y_train,y_val = train_test_split(train_images_data,train_images_labels,random_state=1)\n",
    "#print(train_images_labels)\n"
   ]
  },
  {
   "cell_type": "code",
   "execution_count": 19,
   "metadata": {
    "id": "0M8JITcXBNtb"
   },
   "outputs": [
    {
     "name": "stdout",
     "output_type": "stream",
     "text": [
      "(200, 200, 3)\n",
      "(200, 200, 3)\n",
      "(200, 200, 3)\n",
      "(200, 200, 3)\n",
      "(200, 200, 3)\n",
      "(200, 200, 3)\n",
      "(200, 200, 3)\n",
      "(200, 200, 3)\n",
      "(200, 200, 3)\n",
      "(200, 200, 3)\n",
      "(200, 200, 3)\n",
      "(200, 200, 3)\n",
      "(200, 200, 3)\n",
      "(200, 200, 3)\n",
      "(200, 200, 3)\n",
      "(200, 200, 3)\n",
      "(200, 200, 3)\n",
      "(200, 200, 3)\n",
      "(200, 200, 3)\n",
      "(200, 200, 3)\n",
      "(200, 200, 3)\n",
      "(200, 200, 3)\n",
      "(200, 200, 3)\n",
      "(200, 200, 3)\n",
      "(200, 200, 3)\n",
      "(200, 200, 3)\n",
      "(200, 200, 3)\n",
      "(200, 200, 3)\n",
      "(200, 200, 3)\n",
      "(200, 200, 3)\n",
      "(200, 200, 3)\n",
      "(200, 200, 3)\n",
      "(200, 200, 3)\n",
      "(200, 200, 3)\n",
      "(200, 200, 3)\n",
      "(200, 200, 3)\n",
      "(200, 200, 3)\n",
      "(200, 200, 3)\n",
      "(200, 200, 3)\n",
      "(200, 200, 3)\n",
      "(200, 200, 3)\n",
      "(200, 200, 3)\n",
      "(200, 200, 3)\n",
      "(200, 200, 3)\n",
      "(200, 200, 3)\n",
      "(200, 200, 3)\n",
      "(200, 200, 3)\n",
      "(200, 200, 3)\n",
      "(200, 200, 3)\n",
      "(200, 200, 3)\n",
      "(200, 200, 3)\n",
      "(200, 200, 3)\n",
      "(200, 200, 3)\n",
      "(200, 200, 3)\n",
      "(200, 200, 3)\n",
      "(200, 200, 3)\n",
      "(200, 200, 3)\n"
     ]
    }
   ],
   "source": [
    "test_images_data=[]\n",
    "test_images_labels=[]\n",
    "for i in os.listdir('C:/test'):\n",
    "  if i.split('.')[1] == 'jpg':\n",
    "    img = Image.open(os.path.join('C:/test',i))\n",
    "    #img = im.imread(os.path.join('/content/drive/MyDrive/project data/test',i))\n",
    "    img = img.resize((200,200))\n",
    "    img=np.array(img)\n",
    "    print(img.shape)\n",
    "    if(img.shape==(200,200)):\n",
    "        print(i)\n",
    "        #img=img.reshape((200,200,3))\n",
    "        os.remove('C:/test/'+i)\n",
    "    if(img.shape==(200,200,4)):\n",
    "        #print(i)\n",
    "        c='C:/train/'+i\n",
    "        os.remove('C:/test/'+i)\n",
    "    #img=img.reshape((200,200,1))\n",
    "    test_images_data.append(img)\n",
    "    test_images_labels.append(i.split('_')[0])\n",
    "test_images_data = np.array(test_images_data)\n",
    "test_images_labels = pd.get_dummies(test_images_labels).values"
   ]
  },
  {
   "cell_type": "code",
   "execution_count": 20,
   "metadata": {
    "colab": {
     "base_uri": "https://localhost:8080/",
     "height": 303
    },
    "id": "qMaRSZq7Ctn_",
    "outputId": "87aa6e43-a071-40fd-8a5c-88592cc8aa2e"
   },
   "outputs": [
    {
     "name": "stdout",
     "output_type": "stream",
     "text": [
      "[0 0 1 0]\n"
     ]
    },
    {
     "data": {
      "text/plain": [
       "(200, 200, 3)"
      ]
     },
     "execution_count": 20,
     "metadata": {},
     "output_type": "execute_result"
    },
    {
     "data": {
      "image/png": "[encoded data removed]",
      "text/plain": [
       "<Figure size 432x288 with 1 Axes>"
      ]
     },
     "metadata": {
      "needs_background": "light"
     },
     "output_type": "display_data"
    }
   ],
   "source": [
    "print(train_images_labels[140])\n",
    "plt.imshow(train_images_data[140])\n",
    "train_images_data[14].shape"
   ]
  },
  {
   "cell_type": "code",
   "execution_count": 21,
   "metadata": {
    "colab": {
     "base_uri": "https://localhost:8080/",
     "height": 303
    },
    "id": "Oz2VWKBcltoQ",
    "outputId": "0b7cce60-63f4-4609-c576-8c320dd60fd6"
   },
   "outputs": [
    {
     "name": "stdout",
     "output_type": "stream",
     "text": [
      "[0 1 0 0]\n"
     ]
    },
    {
     "data": {
      "text/plain": [
       "<matplotlib.image.AxesImage at 0x1e40012a548>"
      ]
     },
     "execution_count": 21,
     "metadata": {},
     "output_type": "execute_result"
    },
    {
     "data": {
      "image/png": "[encoded data removed]",
      "text/plain": [
       "<Figure size 432x288 with 1 Axes>"
      ]
     },
     "metadata": {
      "needs_background": "light"
     },
     "output_type": "display_data"
    }
   ],
   "source": [
    "print(train_images_labels[70])\n",
    "plt.imshow(train_images_data[70])"
   ]
  },
  {
   "cell_type": "code",
   "execution_count": 25,
   "metadata": {
    "colab": {
     "base_uri": "https://localhost:8080/"
    },
    "id": "hsUD6i2NmYaE",
    "outputId": "863efce7-e7be-4474-8955-87540f55eea5"
   },
   "outputs": [
    {
     "name": "stdout",
     "output_type": "stream",
     "text": [
      "Model: \"sequential_2\"\n",
      "_________________________________________________________________\n",
      "Layer (type)                 Output Shape              Param #   \n",
      "=================================================================\n",
      "conv2d_8 (Conv2D)            (None, 198, 198, 32)      896       \n",
      "_________________________________________________________________\n",
      "conv2d_9 (Conv2D)            (None, 196, 196, 30)      8670      \n",
      "_________________________________________________________________\n",
      "max_pooling2d_4 (MaxPooling2 (None, 98, 98, 30)        0         \n",
      "_________________________________________________________________\n",
      "conv2d_10 (Conv2D)           (None, 96, 96, 30)        8130      \n",
      "_________________________________________________________________\n",
      "max_pooling2d_5 (MaxPooling2 (None, 48, 48, 30)        0         \n",
      "_________________________________________________________________\n",
      "conv2d_11 (Conv2D)           (None, 46, 46, 30)        8130      \n",
      "_________________________________________________________________\n",
      "flatten_2 (Flatten)          (None, 63480)             0         \n",
      "_________________________________________________________________\n",
      "dense_6 (Dense)              (None, 20)                1269620   \n",
      "_________________________________________________________________\n",
      "dense_7 (Dense)              (None, 15)                315       \n",
      "_________________________________________________________________\n",
      "dense_8 (Dense)              (None, 4)                 64        \n",
      "=================================================================\n",
      "Total params: 1,295,825\n",
      "Trainable params: 1,295,825\n",
      "Non-trainable params: 0\n",
      "_________________________________________________________________\n"
     ]
    }
   ],
   "source": [
    "from tensorflow.keras.layers import Dense, Dropout, Flatten\n",
    "model = tf.keras.Sequential()\n",
    "model.add(Conv2D(kernel_size=(3,3), filters=32, activation='tanh', input_shape=(200,200,3)))\n",
    "model.add(Conv2D(filters=30,kernel_size = (3,3),activation='tanh'))\n",
    "model.add(MaxPooling2D(2,2))\n",
    "model.add(Conv2D(filters=30,kernel_size = (3,3),activation='tanh'))\n",
    "model.add(MaxPooling2D(2,2))\n",
    "model.add(Conv2D(filters=30,kernel_size = (3,3),activation='tanh'))\n",
    "\n",
    "model.add(Flatten())\n",
    "\n",
    "model.add(Dense(20,activation='relu'))\n",
    "model.add(Dense(15,activation='relu'))\n",
    "model.add(Dense(4,activation = 'softmax'))\n",
    "    \n",
    "model.compile(\n",
    "              loss='categorical_crossentropy', \n",
    "              metrics=['acc'],\n",
    "              optimizer='adam'\n",
    "             )\n",
    "model.summary()"
   ]
  },
  {
   "cell_type": "code",
   "execution_count": 26,
   "metadata": {
    "colab": {
     "base_uri": "https://localhost:8080/",
     "height": 697
    },
    "id": "AVy72ycrn0jD",
    "outputId": "57c8f0d4-d7be-41c5-e7d1-b25ec39b15a4"
   },
   "outputs": [
    {
     "name": "stdout",
     "output_type": "stream",
     "text": [
      "Train on 160 samples, validate on 54 samples\n",
      "Epoch 1/30\n",
      "160/160 [==============================] - 13s 81ms/sample - loss: 4.4780 - acc: 0.3125 - val_loss: 1.9053 - val_acc: 0.3333\n",
      "Epoch 2/30\n",
      "160/160 [==============================] - 13s 81ms/sample - loss: 1.7153 - acc: 0.3438 - val_loss: 2.7762 - val_acc: 0.2222\n",
      "Epoch 3/30\n",
      "160/160 [==============================] - 13s 81ms/sample - loss: 2.4608 - acc: 0.2562 - val_loss: 2.7620 - val_acc: 0.2593\n",
      "Epoch 4/30\n",
      "160/160 [==============================] - 14s 88ms/sample - loss: 1.8667 - acc: 0.3250 - val_loss: 1.9289 - val_acc: 0.2963\n",
      "Epoch 5/30\n",
      "160/160 [==============================] - 15s 93ms/sample - loss: 1.4666 - acc: 0.4500 - val_loss: 1.6906 - val_acc: 0.3889\n",
      "Epoch 6/30\n",
      "160/160 [==============================] - 16s 101ms/sample - loss: 2.4798 - acc: 0.3875 - val_loss: 2.3711 - val_acc: 0.2593\n",
      "Epoch 7/30\n",
      "160/160 [==============================] - 15s 94ms/sample - loss: 1.8468 - acc: 0.3000 - val_loss: 2.0814 - val_acc: 0.5000\n",
      "Epoch 8/30\n",
      "160/160 [==============================] - 15s 92ms/sample - loss: 1.1550 - acc: 0.6812 - val_loss: 0.7939 - val_acc: 0.7222\n",
      "Epoch 9/30\n",
      "160/160 [==============================] - 15s 95ms/sample - loss: 0.4576 - acc: 0.8625 - val_loss: 1.0223 - val_acc: 0.6481\n",
      "Epoch 10/30\n",
      "160/160 [==============================] - 15s 94ms/sample - loss: 0.5571 - acc: 0.8313 - val_loss: 0.9085 - val_acc: 0.6852\n",
      "Epoch 11/30\n",
      "160/160 [==============================] - 13s 80ms/sample - loss: 0.3955 - acc: 0.8250 - val_loss: 0.8885 - val_acc: 0.7222\n",
      "Epoch 12/30\n",
      "160/160 [==============================] - 13s 80ms/sample - loss: 0.3943 - acc: 0.8375 - val_loss: 0.7040 - val_acc: 0.7593\n",
      "Epoch 13/30\n",
      "160/160 [==============================] - 13s 81ms/sample - loss: 0.3066 - acc: 0.8750 - val_loss: 0.7095 - val_acc: 0.7407\n",
      "Epoch 14/30\n",
      "160/160 [==============================] - 13s 80ms/sample - loss: 0.2726 - acc: 0.8813 - val_loss: 0.7123 - val_acc: 0.7778\n",
      "Epoch 15/30\n",
      "160/160 [==============================] - 13s 82ms/sample - loss: 0.2242 - acc: 0.9062 - val_loss: 0.7469 - val_acc: 0.7593\n",
      "Epoch 16/30\n",
      "160/160 [==============================] - 13s 81ms/sample - loss: 0.2199 - acc: 0.9187 - val_loss: 0.7656 - val_acc: 0.7778\n",
      "Epoch 17/30\n",
      "160/160 [==============================] - 13s 79ms/sample - loss: 0.2105 - acc: 0.9250 - val_loss: 0.7409 - val_acc: 0.7778\n",
      "Epoch 18/30\n",
      "160/160 [==============================] - 13s 80ms/sample - loss: 0.1883 - acc: 0.9312 - val_loss: 0.6519 - val_acc: 0.7593\n",
      "Epoch 19/30\n",
      "160/160 [==============================] - 13s 82ms/sample - loss: 0.1733 - acc: 0.9500 - val_loss: 0.6831 - val_acc: 0.7407\n",
      "Epoch 20/30\n",
      "160/160 [==============================] - 14s 85ms/sample - loss: 0.1732 - acc: 0.9625 - val_loss: 0.6721 - val_acc: 0.7593\n",
      "Epoch 21/30\n",
      "160/160 [==============================] - 14s 84ms/sample - loss: 0.1453 - acc: 0.9625 - val_loss: 0.7308 - val_acc: 0.7778\n",
      "Epoch 22/30\n",
      "160/160 [==============================] - 14s 88ms/sample - loss: 0.1423 - acc: 0.9563 - val_loss: 0.8114 - val_acc: 0.7593\n",
      "Epoch 23/30\n",
      "160/160 [==============================] - 13s 83ms/sample - loss: 0.1305 - acc: 0.9812 - val_loss: 0.7946 - val_acc: 0.7593\n",
      "Epoch 24/30\n",
      "160/160 [==============================] - 14s 85ms/sample - loss: 0.1252 - acc: 0.9812 - val_loss: 0.7843 - val_acc: 0.7593\n",
      "Epoch 25/30\n",
      "160/160 [==============================] - 17s 103ms/sample - loss: 0.1206 - acc: 0.9812 - val_loss: 0.8335 - val_acc: 0.7778\n",
      "Epoch 26/30\n",
      "160/160 [==============================] - 16s 98ms/sample - loss: 0.1179 - acc: 0.9750 - val_loss: 0.7908 - val_acc: 0.7963\n",
      "Epoch 27/30\n",
      "160/160 [==============================] - 15s 91ms/sample - loss: 0.0979 - acc: 0.9937 - val_loss: 0.9141 - val_acc: 0.7778\n",
      "Epoch 28/30\n",
      "160/160 [==============================] - 13s 82ms/sample - loss: 0.0956 - acc: 0.9875 - val_loss: 0.8191 - val_acc: 0.7778\n",
      "Epoch 29/30\n",
      "160/160 [==============================] - 13s 81ms/sample - loss: 0.0937 - acc: 0.9812 - val_loss: 0.8419 - val_acc: 0.7778\n",
      "Epoch 30/30\n",
      "160/160 [==============================] - 15s 96ms/sample - loss: 0.0775 - acc: 0.9937 - val_loss: 1.0366 - val_acc: 0.7963\n"
     ]
    }
   ],
   "source": [
    "history = model.fit(x_train,y_train,epochs=30,batch_size=50,validation_data=(x_val,y_val))"
   ]
  },
  {
   "cell_type": "code",
   "execution_count": 16,
   "metadata": {},
   "outputs": [
    {
     "data": {
      "text/plain": [
       "array([[[161, 105,  82],\n",
       "        [161, 105,  82],\n",
       "        [163, 107,  84],\n",
       "        ...,\n",
       "        [115,  71,  58],\n",
       "        [113,  69,  56],\n",
       "        [113,  69,  56]],\n",
       "\n",
       "       [[169, 113,  88],\n",
       "        [169, 113,  88],\n",
       "        [169, 113,  88],\n",
       "        ...,\n",
       "        [116,  74,  62],\n",
       "        [115,  73,  61],\n",
       "        [115,  73,  61]],\n",
       "\n",
       "       [[178, 122,  97],\n",
       "        [178, 122,  97],\n",
       "        [178, 122,  97],\n",
       "        ...,\n",
       "        [120,  80,  68],\n",
       "        [116,  76,  64],\n",
       "        [116,  76,  64]],\n",
       "\n",
       "       ...,\n",
       "\n",
       "       [[213, 176, 168],\n",
       "        [213, 176, 170],\n",
       "        [211, 172, 165],\n",
       "        ...,\n",
       "        [174, 150, 150],\n",
       "        [165, 138, 143],\n",
       "        [152, 136, 147]],\n",
       "\n",
       "       [[214, 179, 173],\n",
       "        [214, 177, 169],\n",
       "        [215, 174, 168],\n",
       "        ...,\n",
       "        [173, 144, 148],\n",
       "        [180, 149, 155],\n",
       "        [165, 149, 159]],\n",
       "\n",
       "       [[216, 183, 178],\n",
       "        [215, 176, 169],\n",
       "        [211, 171, 163],\n",
       "        ...,\n",
       "        [172, 141, 147],\n",
       "        [174, 141, 148],\n",
       "        [158, 143, 150]]], dtype=uint8)"
      ]
     },
     "execution_count": 16,
     "metadata": {},
     "output_type": "execute_result"
    }
   ],
   "source": [
    "x_train[0]"
   ]
  },
  {
   "cell_type": "code",
   "execution_count": null,
   "metadata": {},
   "outputs": [],
   "source": []
  }
 ],
 "metadata": {
  "colab": {
   "name": "project.ipynb",
   "provenance": []
  },
  "kernelspec": {
   "display_name": "Python 3",
   "language": "python",
   "name": "python3"
  },
  "language_info": {
   "codemirror_mode": {
    "name": "ipython",
    "version": 3
   },
   "file_extension": ".py",
   "mimetype": "text/x-python",
   "name": "python",
   "nbconvert_exporter": "python",
   "pygments_lexer": "ipython3",
   "version": "3.7.4"
  }
 },
 "nbformat": 4,
 "nbformat_minor": 1
}
